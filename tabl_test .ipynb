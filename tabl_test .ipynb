{
 "cells": [
  {
   "cell_type": "code",
   "execution_count": 2,
   "id": "d677e281",
   "metadata": {},
   "outputs": [],
   "source": [
    "import pandas as pd"
   ]
  },
  {
   "cell_type": "code",
   "execution_count": 35,
   "id": "32f0b0f3",
   "metadata": {},
   "outputs": [],
   "source": [
    "urbanization = pd.read_csv('urbanization_rot.csv')\n",
    "trending = pd.read_csv('trending_by_time.csv',sep=';')"
   ]
  },
  {
   "cell_type": "markdown",
   "id": "0fe1acf0",
   "metadata": {},
   "source": [
    "**Short task description:**  \n",
    "We have two data sets and want to see which youtube videos were the most popular and we want to use the second set of data to look at the world population development.  \n",
    "\n",
    "We want to refer to the terms of the population of the countries to see wit which youtube category the influence/range is the biggest.For this we need to know in which countries which video category were most popular.\n",
    "\n",
    "In the second set of data we want to take a look at how the world population has developed. Here we will create a dashboard with tablau."
   ]
  },
  {
   "cell_type": "code",
   "execution_count": 36,
   "id": "cbf7838e",
   "metadata": {},
   "outputs": [
    {
     "name": "stdout",
     "output_type": "stream",
     "text": [
      "<class 'pandas.core.frame.DataFrame'>\n",
      "RangeIndex: 12343 entries, 0 to 12342\n",
      "Data columns (total 5 columns):\n",
      " #   Column          Non-Null Count  Dtype \n",
      "---  ------          --------------  ----- \n",
      " 0   record_id       12343 non-null  int64 \n",
      " 1   region          12343 non-null  object\n",
      " 2   trending_date   12343 non-null  object\n",
      " 3   category_title  12343 non-null  object\n",
      " 4   videos_count    12343 non-null  int64 \n",
      "dtypes: int64(2), object(3)\n",
      "memory usage: 482.3+ KB\n"
     ]
    },
    {
     "data": {
      "text/html": [
       "<div>\n",
       "<style scoped>\n",
       "    .dataframe tbody tr th:only-of-type {\n",
       "        vertical-align: middle;\n",
       "    }\n",
       "\n",
       "    .dataframe tbody tr th {\n",
       "        vertical-align: top;\n",
       "    }\n",
       "\n",
       "    .dataframe thead th {\n",
       "        text-align: right;\n",
       "    }\n",
       "</style>\n",
       "<table border=\"1\" class=\"dataframe\">\n",
       "  <thead>\n",
       "    <tr style=\"text-align: right;\">\n",
       "      <th></th>\n",
       "      <th>record_id</th>\n",
       "      <th>region</th>\n",
       "      <th>trending_date</th>\n",
       "      <th>category_title</th>\n",
       "      <th>videos_count</th>\n",
       "    </tr>\n",
       "  </thead>\n",
       "  <tbody>\n",
       "    <tr>\n",
       "      <th>0</th>\n",
       "      <td>1</td>\n",
       "      <td>France</td>\n",
       "      <td>2017-11-14 00:00:00.000000</td>\n",
       "      <td>Autos &amp; Vehicles</td>\n",
       "      <td>8</td>\n",
       "    </tr>\n",
       "    <tr>\n",
       "      <th>1</th>\n",
       "      <td>2</td>\n",
       "      <td>France</td>\n",
       "      <td>2017-11-15 00:00:00.000000</td>\n",
       "      <td>Autos &amp; Vehicles</td>\n",
       "      <td>2</td>\n",
       "    </tr>\n",
       "    <tr>\n",
       "      <th>2</th>\n",
       "      <td>3</td>\n",
       "      <td>France</td>\n",
       "      <td>2017-11-16 00:00:00.000000</td>\n",
       "      <td>Autos &amp; Vehicles</td>\n",
       "      <td>6</td>\n",
       "    </tr>\n",
       "    <tr>\n",
       "      <th>3</th>\n",
       "      <td>4</td>\n",
       "      <td>France</td>\n",
       "      <td>2017-11-17 00:00:00.000000</td>\n",
       "      <td>Autos &amp; Vehicles</td>\n",
       "      <td>8</td>\n",
       "    </tr>\n",
       "    <tr>\n",
       "      <th>4</th>\n",
       "      <td>5</td>\n",
       "      <td>France</td>\n",
       "      <td>2017-11-18 00:00:00.000000</td>\n",
       "      <td>Autos &amp; Vehicles</td>\n",
       "      <td>4</td>\n",
       "    </tr>\n",
       "    <tr>\n",
       "      <th>...</th>\n",
       "      <td>...</td>\n",
       "      <td>...</td>\n",
       "      <td>...</td>\n",
       "      <td>...</td>\n",
       "      <td>...</td>\n",
       "    </tr>\n",
       "    <tr>\n",
       "      <th>12338</th>\n",
       "      <td>12339</td>\n",
       "      <td>United States</td>\n",
       "      <td>2018-06-10 00:00:00.000000</td>\n",
       "      <td>Travel &amp; Events</td>\n",
       "      <td>2</td>\n",
       "    </tr>\n",
       "    <tr>\n",
       "      <th>12339</th>\n",
       "      <td>12340</td>\n",
       "      <td>United States</td>\n",
       "      <td>2018-06-11 00:00:00.000000</td>\n",
       "      <td>Travel &amp; Events</td>\n",
       "      <td>2</td>\n",
       "    </tr>\n",
       "    <tr>\n",
       "      <th>12340</th>\n",
       "      <td>12341</td>\n",
       "      <td>United States</td>\n",
       "      <td>2018-06-12 00:00:00.000000</td>\n",
       "      <td>Travel &amp; Events</td>\n",
       "      <td>2</td>\n",
       "    </tr>\n",
       "    <tr>\n",
       "      <th>12341</th>\n",
       "      <td>12342</td>\n",
       "      <td>United States</td>\n",
       "      <td>2018-06-13 00:00:00.000000</td>\n",
       "      <td>Travel &amp; Events</td>\n",
       "      <td>2</td>\n",
       "    </tr>\n",
       "    <tr>\n",
       "      <th>12342</th>\n",
       "      <td>12343</td>\n",
       "      <td>United States</td>\n",
       "      <td>2018-06-14 00:00:00.000000</td>\n",
       "      <td>Travel &amp; Events</td>\n",
       "      <td>2</td>\n",
       "    </tr>\n",
       "  </tbody>\n",
       "</table>\n",
       "<p>12343 rows × 5 columns</p>\n",
       "</div>"
      ],
      "text/plain": [
       "       record_id         region               trending_date    category_title  \\\n",
       "0              1         France  2017-11-14 00:00:00.000000  Autos & Vehicles   \n",
       "1              2         France  2017-11-15 00:00:00.000000  Autos & Vehicles   \n",
       "2              3         France  2017-11-16 00:00:00.000000  Autos & Vehicles   \n",
       "3              4         France  2017-11-17 00:00:00.000000  Autos & Vehicles   \n",
       "4              5         France  2017-11-18 00:00:00.000000  Autos & Vehicles   \n",
       "...          ...            ...                         ...               ...   \n",
       "12338      12339  United States  2018-06-10 00:00:00.000000   Travel & Events   \n",
       "12339      12340  United States  2018-06-11 00:00:00.000000   Travel & Events   \n",
       "12340      12341  United States  2018-06-12 00:00:00.000000   Travel & Events   \n",
       "12341      12342  United States  2018-06-13 00:00:00.000000   Travel & Events   \n",
       "12342      12343  United States  2018-06-14 00:00:00.000000   Travel & Events   \n",
       "\n",
       "       videos_count  \n",
       "0                 8  \n",
       "1                 2  \n",
       "2                 6  \n",
       "3                 8  \n",
       "4                 4  \n",
       "...             ...  \n",
       "12338             2  \n",
       "12339             2  \n",
       "12340             2  \n",
       "12341             2  \n",
       "12342             2  \n",
       "\n",
       "[12343 rows x 5 columns]"
      ]
     },
     "metadata": {},
     "output_type": "display_data"
    }
   ],
   "source": [
    "trending.info()\n",
    "display(trending)"
   ]
  },
  {
   "cell_type": "code",
   "execution_count": 41,
   "id": "fbdefc1e",
   "metadata": {},
   "outputs": [
    {
     "name": "stdout",
     "output_type": "stream",
     "text": [
      "From when do our dates begin: 2017-11-14 00:00:00.000000\n",
      "When do our dates end: 2018-06-14 00:00:00.000000\n"
     ]
    }
   ],
   "source": [
    "print('From when do our dates begin:',trending.trending_date.min())\n",
    "print('When do our dates end:',trending.trending_date.max())"
   ]
  },
  {
   "cell_type": "code",
   "execution_count": 42,
   "id": "b4040784",
   "metadata": {},
   "outputs": [
    {
     "name": "stdout",
     "output_type": "stream",
     "text": [
      "Which countries are we looking at: ['France' 'India' 'Japan' 'Russia' 'United States']\n",
      "\n",
      "Number of country we are looking at: 5\n"
     ]
    }
   ],
   "source": [
    "print('Which countries are we looking at:',trending['region'].unique())\n",
    "number_of_country=trending['region'].nunique()\n",
    "print()\n",
    "print('Number of country we are looking at:',number_of_country)"
   ]
  },
  {
   "cell_type": "code",
   "execution_count": 31,
   "id": "a6100479",
   "metadata": {},
   "outputs": [
    {
     "name": "stdout",
     "output_type": "stream",
     "text": [
      "<class 'pandas.core.frame.DataFrame'>\n",
      "RangeIndex: 27984 entries, 0 to 27983\n",
      "Data columns (total 4 columns):\n",
      " #   Column           Non-Null Count  Dtype \n",
      "---  ------           --------------  ----- \n",
      " 0   Country          27984 non-null  object\n",
      " 1   Year             27984 non-null  object\n",
      " 2   Population Type  27984 non-null  object\n",
      " 3   Population       27984 non-null  int64 \n",
      "dtypes: int64(1), object(3)\n",
      "memory usage: 874.6+ KB\n"
     ]
    },
    {
     "data": {
      "text/html": [
       "<div>\n",
       "<style scoped>\n",
       "    .dataframe tbody tr th:only-of-type {\n",
       "        vertical-align: middle;\n",
       "    }\n",
       "\n",
       "    .dataframe tbody tr th {\n",
       "        vertical-align: top;\n",
       "    }\n",
       "\n",
       "    .dataframe thead th {\n",
       "        text-align: right;\n",
       "    }\n",
       "</style>\n",
       "<table border=\"1\" class=\"dataframe\">\n",
       "  <thead>\n",
       "    <tr style=\"text-align: right;\">\n",
       "      <th></th>\n",
       "      <th>Country</th>\n",
       "      <th>Year</th>\n",
       "      <th>Population Type</th>\n",
       "      <th>Population</th>\n",
       "    </tr>\n",
       "  </thead>\n",
       "  <tbody>\n",
       "    <tr>\n",
       "      <th>0</th>\n",
       "      <td>Afghanistan</td>\n",
       "      <td>1950-01-01</td>\n",
       "      <td>Urban</td>\n",
       "      <td>465127</td>\n",
       "    </tr>\n",
       "    <tr>\n",
       "      <th>1</th>\n",
       "      <td>Afghanistan</td>\n",
       "      <td>1951-01-01</td>\n",
       "      <td>Urban</td>\n",
       "      <td>486716</td>\n",
       "    </tr>\n",
       "    <tr>\n",
       "      <th>2</th>\n",
       "      <td>Afghanistan</td>\n",
       "      <td>1952-01-01</td>\n",
       "      <td>Urban</td>\n",
       "      <td>509649</td>\n",
       "    </tr>\n",
       "    <tr>\n",
       "      <th>3</th>\n",
       "      <td>Afghanistan</td>\n",
       "      <td>1953-01-01</td>\n",
       "      <td>Urban</td>\n",
       "      <td>534076</td>\n",
       "    </tr>\n",
       "    <tr>\n",
       "      <th>4</th>\n",
       "      <td>Afghanistan</td>\n",
       "      <td>1954-01-01</td>\n",
       "      <td>Urban</td>\n",
       "      <td>560158</td>\n",
       "    </tr>\n",
       "    <tr>\n",
       "      <th>...</th>\n",
       "      <td>...</td>\n",
       "      <td>...</td>\n",
       "      <td>...</td>\n",
       "      <td>...</td>\n",
       "    </tr>\n",
       "    <tr>\n",
       "      <th>27979</th>\n",
       "      <td>Viet Nam</td>\n",
       "      <td>2011-01-01</td>\n",
       "      <td>Rural</td>\n",
       "      <td>61250158</td>\n",
       "    </tr>\n",
       "    <tr>\n",
       "      <th>27980</th>\n",
       "      <td>Viet Nam</td>\n",
       "      <td>2012-01-01</td>\n",
       "      <td>Rural</td>\n",
       "      <td>61288018</td>\n",
       "    </tr>\n",
       "    <tr>\n",
       "      <th>27981</th>\n",
       "      <td>Viet Nam</td>\n",
       "      <td>2013-01-01</td>\n",
       "      <td>Rural</td>\n",
       "      <td>61322435</td>\n",
       "    </tr>\n",
       "    <tr>\n",
       "      <th>27982</th>\n",
       "      <td>Viet Nam</td>\n",
       "      <td>2014-01-01</td>\n",
       "      <td>Rural</td>\n",
       "      <td>61342809</td>\n",
       "    </tr>\n",
       "    <tr>\n",
       "      <th>27983</th>\n",
       "      <td>Viet Nam</td>\n",
       "      <td>2015-01-01</td>\n",
       "      <td>Rural</td>\n",
       "      <td>61343888</td>\n",
       "    </tr>\n",
       "  </tbody>\n",
       "</table>\n",
       "<p>27984 rows × 4 columns</p>\n",
       "</div>"
      ],
      "text/plain": [
       "           Country        Year Population Type  Population\n",
       "0      Afghanistan  1950-01-01           Urban      465127\n",
       "1      Afghanistan  1951-01-01           Urban      486716\n",
       "2      Afghanistan  1952-01-01           Urban      509649\n",
       "3      Afghanistan  1953-01-01           Urban      534076\n",
       "4      Afghanistan  1954-01-01           Urban      560158\n",
       "...            ...         ...             ...         ...\n",
       "27979     Viet Nam  2011-01-01           Rural    61250158\n",
       "27980     Viet Nam  2012-01-01           Rural    61288018\n",
       "27981     Viet Nam  2013-01-01           Rural    61322435\n",
       "27982     Viet Nam  2014-01-01           Rural    61342809\n",
       "27983     Viet Nam  2015-01-01           Rural    61343888\n",
       "\n",
       "[27984 rows x 4 columns]"
      ]
     },
     "metadata": {},
     "output_type": "display_data"
    }
   ],
   "source": [
    "urbanization.info()\n",
    "display(urbanization)"
   ]
  },
  {
   "cell_type": "code",
   "execution_count": 43,
   "id": "464f26f8",
   "metadata": {},
   "outputs": [
    {
     "name": "stdout",
     "output_type": "stream",
     "text": [
      "From when do our dates begin: 1950-01-01\n",
      "When do our dates end: 2015-01-01\n"
     ]
    }
   ],
   "source": [
    "print('From when do our dates begin:',urbanization.Year.min())\n",
    "print('When do our dates end:',urbanization.Year.max())"
   ]
  },
  {
   "cell_type": "code",
   "execution_count": 45,
   "id": "a374b8f1",
   "metadata": {},
   "outputs": [
    {
     "name": "stdout",
     "output_type": "stream",
     "text": [
      "Which countries are we looking at: ['Afghanistan' 'Albania' 'Algeria' 'American Samoa' 'Andorra' 'Angola'\n",
      " 'Anguilla' 'Antigua And Barbuda' 'Argentina' 'Armenia' 'Aruba'\n",
      " 'Australia' 'Austria' 'Azerbaijan' 'Bahamas' 'Bahrain' 'Bangladesh'\n",
      " 'Barbados' 'Belarus' 'Belgium' 'Belize' 'Benin' 'Bermuda' 'Bhutan'\n",
      " 'Bosnia And Herzegovina' 'Botswana' 'Brazil' 'Bulgaria' 'Burkina Faso'\n",
      " 'Burundi' 'Cambodia' 'Cameroon' 'Canada' 'Cayman Islands'\n",
      " 'Central African Republic' 'Chad' 'Chile' 'China' 'Colombia' 'Comoros'\n",
      " 'Cook Islands' 'Costa Rica' 'Croatia' 'Cuba' 'Cyprus' 'Denmark'\n",
      " 'Djibouti' 'Dominica' 'Dominican Republic' 'Ecuador' 'Egypt'\n",
      " 'El Salvador' 'Equatorial Guinea' 'Eritrea' 'Estonia' 'Ethiopia'\n",
      " 'Faroe Islands' 'Fiji' 'Finland' 'France' 'French Guiana'\n",
      " 'French Polynesia' 'Gabon' 'Gambia' 'Georgia' 'Germany' 'Ghana'\n",
      " 'Gibraltar' 'Greece' 'Greenland' 'Grenada' 'Guadeloupe' 'Guam'\n",
      " 'Guatemala' 'Guinea' 'Guinea-Bissau' 'Guyana' 'Haiti' 'Honduras'\n",
      " 'Hungary' 'Iceland' 'India' 'Indonesia' 'Iraq' 'Ireland' 'Israel' 'Italy'\n",
      " 'Jamaica' 'Japan' 'Jordan' 'Kazakhstan' 'Kenya' 'Kiribati' 'Kuwait'\n",
      " 'Kyrgyzstan' 'Latvia' 'Lebanon' 'Lesotho' 'Liberia'\n",
      " 'Libyan Arab Jamahiriya' 'Liechtenstein' 'Lithuania' 'Luxembourg'\n",
      " 'Madagascar' 'Malawi' 'Malaysia' 'Maldives' 'Mali' 'Malta'\n",
      " 'Marshall Islands' 'Martinique' 'Mauritania' 'Mauritius' 'Mayotte'\n",
      " 'Mexico' 'Monaco' 'Mongolia' 'Montenegro' 'Montserrat' 'Morocco'\n",
      " 'Mozambique' 'Myanmar' 'Namibia' 'Nauru' 'Nepal' 'Netherlands'\n",
      " 'New Caledonia' 'New Zealand' 'Nicaragua' 'Niger' 'Nigeria' 'Niue'\n",
      " 'Northern Mariana Islands' 'Norway' 'Oman' 'Pakistan' 'Palau' 'Panama'\n",
      " 'Papua New Guinea' 'Paraguay' 'Peru' 'Philippines' 'Poland' 'Portugal'\n",
      " 'Puerto Rico' 'Qatar' 'Romania' 'Rwanda' 'Saint Helena' 'Saint Lucia'\n",
      " 'Samoa' 'San Marino' 'Saudi Arabia' 'Senegal' 'Serbia' 'Seychelles'\n",
      " 'Sierra Leone' 'Singapore' 'Slovakia' 'Slovenia' 'Solomon Islands'\n",
      " 'Somalia' 'South Africa' 'Spain' 'Sri Lanka' 'Sudan' 'Suriname' 'Sweden'\n",
      " 'Switzerland' 'Tajikistan' 'Thailand' 'Togo' 'Tokelau' 'Tonga' 'Tunisia'\n",
      " 'Turkey' 'Turkmenistan' 'Tuvalu' 'Uganda' 'Ukraine'\n",
      " 'United Arab Emirates' 'United Kingdom' 'Uruguay' 'Uzbekistan' 'Vanuatu'\n",
      " 'Western Sahara' 'Yemen' 'Zambia' 'Zimbabwe' 'United States' 'Bolivia'\n",
      " 'Brunei Darussalam' 'Czech Republic' 'Falkland Islands (malvinas)'\n",
      " 'Hong Kong' 'Iran, Islamic Republic Of'\n",
      " \"Lao People's Democratic Republic\" 'Macau' 'Macedonia'\n",
      " 'Moldova, Republic Of' 'Palestine' 'Micronesia, Federated States Of'\n",
      " \"Korea, Democratic People's Republic Of\" 'Russian Federation'\n",
      " 'Korea, Republic Of' 'Syrian Arab Republic' 'Taiwan'\n",
      " 'Tanzania, United Republic Of' 'East Timor'\n",
      " 'Holy See (Vatican City State)' 'Venezuela' 'Viet Nam']\n",
      "\n",
      "Number of country we are looking at: 212\n"
     ]
    }
   ],
   "source": [
    "print('Which countries are we looking at:',urbanization['Country'].unique())\n",
    "number_of_country_=urbanization['Country'].nunique()\n",
    "print()\n",
    "print('Number of country we are looking at:',number_of_country_)"
   ]
  },
  {
   "cell_type": "markdown",
   "id": "d1c2c162",
   "metadata": {},
   "source": [
    "According to the ISO standard “Country Codes” there are 249 countries in the world (194 of them are independent).\n",
    "With 212 we seem to be somewhere in between and are looking at the whole world.  \n",
    "\n",
    "To answer our questions in this project, we will use this data to build dashboards with tableau and create a small presentation."
   ]
  },
  {
   "cell_type": "markdown",
   "id": "75c6f907",
   "metadata": {},
   "source": [
    "**Links**  \n",
    "Youtube video trends:    \n",
    "https://public.tableau.com/app/profile/marcel2130/viz/AutomationProject_16278461105020/Dashboard1?publish=yes    \n",
    "https://public.tableau.com/app/profile/marcel2130/viz/AutomationProject_16278461105020/Dashboard2?publish=yes    \n",
    "World population growth:  \n",
    "https://public.tableau.com/app/profile/marcel2130/viz/Worldpopulationevolution/Dashboard2?publish=yes"
   ]
  },
  {
   "cell_type": "markdown",
   "id": "3ca6b585",
   "metadata": {},
   "source": [
    "Small presentation youtube video trends:  \n",
    "https://drive.google.com/file/d/1E5N617w_E6HwduKjxad8HWhLrlCNYdus/view?usp=sharing"
   ]
  }
 ],
 "metadata": {
  "kernelspec": {
   "display_name": "Python 3",
   "language": "python",
   "name": "python3"
  },
  "language_info": {
   "codemirror_mode": {
    "name": "ipython",
    "version": 3
   },
   "file_extension": ".py",
   "mimetype": "text/x-python",
   "name": "python",
   "nbconvert_exporter": "python",
   "pygments_lexer": "ipython3",
   "version": "3.8.8"
  }
 },
 "nbformat": 4,
 "nbformat_minor": 5
}
